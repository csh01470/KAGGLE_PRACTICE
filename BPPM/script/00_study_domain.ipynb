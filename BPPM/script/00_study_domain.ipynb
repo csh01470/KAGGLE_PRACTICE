{
 "cells": [
  {
   "cell_type": "markdown",
   "metadata": {},
   "source": [
    "# PS4E8 : **Binary Prediction of Poisonous Mushrooms**"
   ]
  },
  {
   "cell_type": "markdown",
   "metadata": {},
   "source": [
    "## >> **STUDY DOMAIN**"
   ]
  },
  {
   "cell_type": "markdown",
   "metadata": {},
   "source": [
    "## 00. **REFERENCE**"
   ]
  },
  {
   "cell_type": "markdown",
   "metadata": {},
   "source": [
    "#### 00.1. **KAGGLE CODES**"
   ]
  },
  {
   "cell_type": "markdown",
   "metadata": {},
   "source": [
    "- 🔗 [0.991acc_Catboost_t7_dslanders](https://www.kaggle.com/code/rezashokrzad/0-991acc-catboost-t7-dslanders)\n",
    "\n",
    "- 🔗 [Binary Prediction of Poisonous Mushrooms](https://www.kaggle.com/code/danishyousuf19/binary-prediction-of-poisonous-mushrooms)\n",
    "\n",
    "- 🔗 [🌴Mushroom🎉Classification📈Analysis](https://www.kaggle.com/code/satyaprakashshukl/mushroom-classification-analysis)\n",
    "\n",
    "- 🔗 [AutoGloun-T8-dslanders](https://www.kaggle.com/code/mobinapoulaei/autogloun-t8-dslanders)\n",
    "\n",
    "- 🔗 [PSS4E8 : Autogluon : best_quality : gpu](https://www.kaggle.com/code/gauravduttakiit/pss4e8-autogluon-best-quality-gpu)"
   ]
  },
  {
   "cell_type": "markdown",
   "metadata": {},
   "source": [
    "<b></b>"
   ]
  },
  {
   "cell_type": "markdown",
   "metadata": {},
   "source": [
    "## 01. **DATASET SPECIFICATION**"
   ]
  },
  {
   "cell_type": "markdown",
   "metadata": {},
   "source": [
    "#### 01.1. **DATASET COLUMN SPECIFICATION**"
   ]
  },
  {
   "cell_type": "markdown",
   "metadata": {},
   "source": [
    "| Role | Name | Description | Values |\n",
    "|-|-|-|-|\n",
    "| index | `id` | 식별값 | |\n",
    "| target | `class` | 독성 및 식용 여부 | `p`(poisonous) / `e`(edible) |\n",
    "| feature | `cap-diameter` | 모자 지름 | `cm`(unit) |\n",
    "| feature | `cap-shape` | 모자 형태 | `b`(bell) / `c`(conical) / `x`(convex) / `f`(flat) / `k`(knobbed) / `s`(sunken) |\n",
    "| feature | `cap-surface` | 모자 표면 특성 | `f`(fibrous) / `g`(grooves) / `y`(scaly) / `s`(smooth) |\n",
    "| feature | `cap-color` | 모자 색상 | `n`(brown) / `b`(buff) / `c`(cinnamon) / `g`(gray) / `r`(green) / `p`(pink) / `u`(purple) / `e`(red) / `w`(white) / `y`(yellow) |\n",
    "| feature | `does-bruise-or-bleed` | 멍 / 즙 발생 여부 | `t`(True) / `f`(False) |\n",
    "| feature | `gill-attachment` | 아가미 부착 여부 | `a`(attached) / `d`(descending) / `f`(free) / `n`(notched) |\n",
    "| feature | `gill-spacing` | 아가미 간의 간격 | `c`(close) / `w`(crowded) / `d`(distant) |\n",
    "| feature | `gill-color` | 아가미 색상 | `k`(black) / `n`(brown) / `b`(buff) / `h`(chocolate) / `g`(gray) / `r`(green) / `o`(orange) / `p`(pink) / `u`(purple) / `e`(red) / `w`(white) / `y`(yellow) |\n",
    "| feature | `stem-height` | 줄기 높이 | `cm`(unit) |\n",
    "| feature | `stem-width` | 줄기 너비 | `mm`(unit) |\n",
    "| feature | `stem-surface` | 줄기 표면 특성 | `i`(fibrous) / `g`(grooves) / `y`(scaly) / `s`(smooth) / `h`(shiny) / `l`(leathery) / `k`(silky) / `t`(sticky) / `w`(wrinkled) / `e`(fleshy) |\n",
    "| feature | `stem-color` | 줄기 색상 | `n`(brown) / `b`(buff) / `c`(cinnamon) / `g`(gray) / `r`(green) / `p`(pink) / `u`(purple) / `e`(red) / `w`(white) / `y`(yellow) / `f`(none) |\n",
    "| feature | `veil-type` | 베일 표면 특성 | `p`(partial) / `u`(universal) |\n",
    "| feature | `veil-color` | 베일 색상 | `n`(brown) / `b`(buff) / `c`(cinnamon) / `g`(gray) / `r`(green) / `p`(pink) / `u`(purple) / `e`(red) / `w`(white) / `y`(yellow) / `f`(none) |\n",
    "| feature | `has-ring` | 고리 존재 여부 | `t`(True) / `f`(False) |\n",
    "| feature | `ring-type` | 고리 유형 | `c`(cobwebby) / `e`(evanescent) / `r`(flaring) / `g`(grooved) / `l`(large) / `p`(pendant) / `s`(sheathing) / `z`(zone) / `y`(scaly) / `m`(movable) / `f`(none) / $ \\cdots{} $ |\n",
    "| feature | `spore-print-color` | 포자 프린트 색상 | `n`(brown) / `b`(buff) / `c`(cinnamon) / `g`(gray) / `r`(green) / `p`(pink) / `u`(purple) / `e`(red) / `w`(white) / `y`(yellow) |\n",
    "| feature | `habitat` | 자라는 환경 | `g`(grasses) / `l`(leaves) / `m`(meadows) / `p`(paths) / `h`(heaths) / `u`(urban) / `w`(waste) / `d`(woods) |\n",
    "| feature | `season` | 발견되는 계절 | `s`(spring) / `u`(summer) / `a`(autumn) / `w`(winter) |\n",
    "\n",
    "- reference : [UCI Mushroom dataset](https://archive.ics.uci.edu/dataset/73/mushroom)\n"
   ]
  }
 ],
 "metadata": {
  "language_info": {
   "name": "python"
  }
 },
 "nbformat": 4,
 "nbformat_minor": 2
}
