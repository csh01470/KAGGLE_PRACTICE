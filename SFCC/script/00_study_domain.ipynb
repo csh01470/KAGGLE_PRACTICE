{
 "cells": [
  {
   "cell_type": "markdown",
   "metadata": {},
   "source": [
    "# PS____ : **San Francisco Crime Classification**"
   ]
  },
  {
   "cell_type": "markdown",
   "metadata": {},
   "source": [
    "## >> **STUDY DOMAIN**"
   ]
  },
  {
   "cell_type": "markdown",
   "metadata": {},
   "source": [
    "## 00. **REFERENCE**"
   ]
  },
  {
   "cell_type": "markdown",
   "metadata": {},
   "source": [
    "- [temp]"
   ]
  },
  {
   "cell_type": "markdown",
   "metadata": {},
   "source": [
    "<b></b>"
   ]
  },
  {
   "cell_type": "markdown",
   "metadata": {},
   "source": [
    "## 01. **DATASET SPECIFICATION**"
   ]
  },
  {
   "cell_type": "markdown",
   "metadata": {},
   "source": [
    "#### 01.1. **DATASET COLUMN SPECIFICATION**"
   ]
  },
  {
   "cell_type": "markdown",
   "metadata": {},
   "source": [
    "| Role | Name | Description | Format | Comment |\n",
    "|-|-|-|-|-|\n",
    "|feature|Dates|범죄발생시간|%Y-%m-%d %H:%M:%S|초 단위는 기록 X|\n",
    "|target|Category|범죄종류|||\n",
    "|-|Descript|범죄세부정보||not in `test`|\n",
    "|feature|DayOfWeek|범죄발생요일|||\n",
    "|feature|PdDistrict|관할경찰서|||\n",
    "|-|Resolution|범죄해결여부및상태||not in `test`|\n",
    "|feature|Address|범죄발생주소|||\n",
    "|feature|X|경도|||\n",
    "|feature|Y|위도|||\n",
    "\n",
    "- source : [datasf](https://datasf.org/opendata/)"
   ]
  },
  {
   "cell_type": "markdown",
   "metadata": {},
   "source": [
    "<b></b>"
   ]
  },
  {
   "cell_type": "markdown",
   "metadata": {},
   "source": [
    "## 02. **USA ADDRESS DOMAIN**"
   ]
  },
  {
   "cell_type": "markdown",
   "metadata": {},
   "source": [
    "#### 02.1. **Abbreviation(약어)**"
   ]
  },
  {
   "cell_type": "markdown",
   "metadata": {},
   "source": [
    "| Abbreviation | English Name | Korean Name | Comment |\n",
    "|-|-|-|-| \n",
    "| AL | Alley | 골목 | |\n",
    "| AV | Avenue | 대로 | |\n",
    "| BL | Boulevard | 대로 | |\n",
    "| CR | Circle | 환상도로 | |\n",
    "| CT | Court | 코트 (막다른 길) | |\n",
    "| DR | Drive | 드라이브 | |\n",
    "| EX | Expressway | 고속도로 | |\n",
    "| HWY | Highway | 고속도로 | |\n",
    "| HY | Highway | 고속도로 | HWY 통합 |\n",
    "| I-`\\d{1,}` | Interstate-`\\d{1,}` | `\\d{1,}`번 주간고속도로 | |\n",
    "| LN | Lane | 차선 또는 작은 길 | |\n",
    "| MAR | Market(*) | 가게 | |\n",
    "| PARK | Park | 공원 | |\n",
    "| PL | Place | 장소 | |\n",
    "| PZ | Plaza | 광장 | |\n",
    "| RD | Road | 도로 | |\n",
    "| RW | Row | 도로 | RD 통합 |\n",
    "| ST | Street | 거리 | |\n",
    "| STWY | Stairway | 계단길 | |\n",
    "| TER | Terrace | 테라스 | |\n",
    "| TR | Trail | 산책로 | |\n",
    "| WAY | Way | 길 | |\n",
    "| WY | Way | 길 | WAY 통합 |\n",
    "| WK | Walk | 산책로 | |\n",
    "\n",
    "(*) Marina(선착장)로 추정하기도 함"
   ]
  }
 ],
 "metadata": {
  "language_info": {
   "name": "python"
  }
 },
 "nbformat": 4,
 "nbformat_minor": 2
}
