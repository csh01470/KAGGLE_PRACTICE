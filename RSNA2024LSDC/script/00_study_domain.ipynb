{
 "cells": [
  {
   "cell_type": "markdown",
   "id": "474d0294",
   "metadata": {},
   "source": [
    "# FEATURED : **RSNA 2024 Lumbar Spine Degenerative Classification**"
   ]
  },
  {
   "cell_type": "markdown",
   "id": "a779f21d",
   "metadata": {},
   "source": [
    "## >> **STUDY DOMAIN**"
   ]
  },
  {
   "cell_type": "markdown",
   "id": "57dded5c",
   "metadata": {},
   "source": [
    "## 00. **REFERENCE**"
   ]
  },
  {
   "cell_type": "markdown",
   "id": "5a36f4ec",
   "metadata": {},
   "source": [
    "#### 00.1. **KAGGLE CODES**"
   ]
  },
  {
   "cell_type": "markdown",
   "id": "245c192a",
   "metadata": {},
   "source": [
    "- 🔗 [🍱RSNA Lumbar 👷🏿‍♂️Spine 🕸Analysis](https://www.kaggle.com/code/satyaprakashshukl/rsna-lumbar-spine-analysis)\n",
    "\n",
    "- 🔗 [Anatomy & Image Visualization Overview-RSNA RAIDS](https://www.kaggle.com/code/abhinavsuri/anatomy-image-visualization-overview-rsna-raids)"
   ]
  },
  {
   "cell_type": "markdown",
   "id": "cc40cc36",
   "metadata": {},
   "source": [
    "<b></b>"
   ]
  },
  {
   "cell_type": "markdown",
   "id": "794c63a8",
   "metadata": {},
   "source": [
    "## 01. **DATASET SPECIFICATION**"
   ]
  },
  {
   "cell_type": "markdown",
   "id": "bdbace1b",
   "metadata": {},
   "source": [
    "#### 01.1. **DIRECTORY**"
   ]
  },
  {
   "cell_type": "code",
   "execution_count": null,
   "id": "7750b54b",
   "metadata": {},
   "outputs": [],
   "source": [
    "'''\n",
    "./RSNA2024LSDC/\n",
    "├── /script/00_study_domain.ipynb ** This notebook\n",
    "└── /data/\n",
    "    ├── test_images/\n",
    "    │   ├── {study_id}/\n",
    "    │   │   └── {series_id}/\n",
    "    │   │       ├── {instance_number}.dcm\n",
    "    │   │       └── ...\n",
    "    │   └── ...\n",
    "    ├── test_series_descriptions.csv\n",
    "    ├── train_images/\n",
    "    │   ├── {study_id}/\n",
    "    │   │   └── {series_id}/\n",
    "    │   │       ├── {instance_number}.dcm\n",
    "    │   │       └── ...\n",
    "    │   └── ...\n",
    "    ├── train_label_coordinates.csv\n",
    "    ├── train_series_descriptions.csv\n",
    "    └── train.csv\n",
    "'''\n",
    "pass"
   ]
  },
  {
   "cell_type": "markdown",
   "id": "2103fc78",
   "metadata": {},
   "source": [
    "#### 01.2. **DATASET COLUMN SPECIFICATION**"
   ]
  },
  {
   "cell_type": "markdown",
   "id": "8ba4bf9b",
   "metadata": {},
   "source": [
    "**(1) `train_series_descriptions`**\n",
    "|Role|Column Name|Description|Value|\n",
    "|-|-|-|-|\n",
    "key|`study_id`|환자 index||\n",
    "key|`series_id`|연구를 위해 구분한 이미징 세션(그룹) index||\n",
    "feature|`series_description`|(MRI 촬영 정보)|`Axial T2` / `Sagittal T2/STIR` / `Sagittal T1`|\n",
    "\n",
    "**(2) `train_label_coordinates`**\n",
    "|Role|Column Name|Description|Value|\n",
    "|-|-|-|-|\n",
    "key|`study_id`|환자 index||\n",
    "key|`series_id`|연구를 위한 이미지 그룹 index||\n",
    "key|`instance_number`|이미지 파일 index ||\n",
    "feature|`condition`|증상|`RNFN`, `LNFN`, `RSS`, `LSS`, `RCS`|\n",
    "feature|`level`|**해당 증상을 판별하기 위한** **디스크 위치**|`L1/L2`, `L2/L3`, `L3/L4`, `L4/L5`, `L5/S1`|\n",
    "feature|`x`|레벨에 해당하는 수평축(x축 값)||\n",
    "feature|`y`|레벨에 해당하는 수직축(y축 값)||\n",
    "\n",
    "**(3) `train_label` $ \\rightarrow{} $ Rename : train**\n",
    "|Role|Column Name|Description|Value|\n",
    "|-|-|-|-|\n",
    "key|`study_id`|환자 index||\n",
    "target|`spinal_canal_stenosis_l1_l2`|증상 및 위치별 진단 결과|`Normal/Mild` / `Moderate` / `Severe` |\n",
    "target|$\\cdots{}$|$\\cdots{}$|$\\cdots{}$|"
   ]
  },
  {
   "cell_type": "markdown",
   "id": "f28be2cb",
   "metadata": {},
   "source": [
    "<b></b>"
   ]
  },
  {
   "cell_type": "markdown",
   "id": "8056d822",
   "metadata": {},
   "source": [
    "## 01. **MEDICAL DOMAIN**"
   ]
  },
  {
   "cell_type": "markdown",
   "id": "e28c3a91",
   "metadata": {},
   "source": [
    "#### 01.1. **척추**"
   ]
  },
  {
   "cell_type": "markdown",
   "id": "fa75591a",
   "metadata": {},
   "source": [
    "**(1) 척추 레벨에 관련된 정보**\n",
    "\n",
    "<img src=\"../img/fig01.jpg\" width=\"40%\" height=\"40%\"></img>\n",
    "\n",
    "- L1, L2, L3, L4, L5 : Lumbar curve에 위치한 디스크 인덱스\n",
    "\n",
    "- S1 : Sacral curve에 위치한 첫 번째 디스크 인덱스 (L5와 근접)\n",
    "\n",
    "**(2) 척추 단면에 관련된 정보**\n",
    "\n",
    "<img src=\"../img/fig02.png\" width=\"40%\" height=\"40%\"></img>\n",
    "\n",
    "- Neural Foramen(신경공) : 신경이 척추에서 나오는 통로\n",
    "\n",
    "- Nerve Root (신경근) : 신경공을 통해 척추에서 나가는 신경\n",
    "\n",
    "- Nucleus Pulposus (수핵) : 디스크의 중심에 있는 젤리 같은 물질로, 충격을 흡수하는 역할\n",
    "\n",
    "- Disc annulus(부분관절) : 척추뼈 사이의 디스크 외부를 둘러싸는 섬유륜 부분\n",
    "\n",
    "- Spinal Cord(척추관) : 척수를 감싸는 뼈"
   ]
  },
  {
   "cell_type": "markdown",
   "id": "00059bf1",
   "metadata": {},
   "source": [
    "#### 01.2. **관련 증상**"
   ]
  },
  {
   "cell_type": "markdown",
   "id": "8463e42a",
   "metadata": {},
   "source": [
    "- Right Neural Foraminal Narrowing(RNFN) : 오른쪽 신경공 협착(좁아짐)으로, 척추의 오른쪽 신경공이 좁아져 신경이 압박받는 상태\n",
    "\n",
    "- Left Neural Foraminal Narrowing(LNFN) : 왼쪽 신경공 협착으로, 척추의 왼쪽 신경공이 좁아져 신경이 압박받는 상태\n",
    "\n",
    "- Spinal Canal Stenosis(SCS) : 척추관 협착증으로, 척추관이 좁아져 신경이 압박받는 상태\n",
    "\n",
    "- Right Subarticular Stenosis(RSS) : 오른쪽 부분관절 협착증으로, 척추의 오른쪽 부분관절 부위가 좁아지는 상태\n",
    "\n",
    "- Left Subarticular Stenosis(LSS) : 왼쪽 부분관절 협착증으로, 척추의 왼쪽 부분관절 부위가 좁아지는 상태"
   ]
  },
  {
   "cell_type": "markdown",
   "id": "054b058c",
   "metadata": {},
   "source": [
    "#### 01.3. **MRI 촬영 기법**"
   ]
  },
  {
   "cell_type": "markdown",
   "id": "749dd194",
   "metadata": {},
   "source": [
    "(1) 촬영 축에 관한 정보\n",
    "\n",
    "<img src=\"../img/fig03.jpg\" width=\"25%\" height=\"25%\"></img>\n",
    "\n",
    "- Sagittal : 시상면(몸을 왼쪽과 오른쪽으로 나누는 **수직면**) $ \\, \\rightarrow{} $ **RNFN, LNFN, SCS** 식별 good\n",
    "\n",
    "- Axial : 횡단면(몸을 위아래로 나누는 **수평면**) $ \\, \\rightarrow{} $ **RSS, LSS** 식별 good\n",
    "\n",
    "(2) 촬영 기법(description)에 대한 정보 \n",
    "\n",
    "- T1 : 지방 조직을 밝게 촬영 $ \\, \\rightarrow{} $ 척추의 구조적 이상, 디스크 탈출증, 뼈의 밀도와 같은 조건 파악\n",
    "\n",
    "- T2 : 주로 물이나 많은 조직을 밝게 촬영 $ \\, \\rightarrow{} $ 척수 같은 부위에서 유체의 정상적 또는 비정상적 축적을 파악\n",
    "\n",
    "- STIR (Short Tau Inversion Recovery) : 부종을 더욱 선명하게 강조 $ \\, \\rightarrow{} $ 척추 주변의 염증성 질환, 종양 파악 "
   ]
  }
 ],
 "metadata": {
  "kaggle": {
   "accelerator": "none",
   "dataSources": [
    {
     "databundleVersionId": 9045607,
     "sourceId": 76727,
     "sourceType": "competition"
    },
    {
     "datasetId": 478,
     "sourceId": 974,
     "sourceType": "datasetVersion"
    }
   ],
   "isGpuEnabled": false,
   "isInternetEnabled": true,
   "language": "python",
   "sourceType": "notebook"
  },
  "kernelspec": {
   "display_name": "Python 3",
   "language": "python",
   "name": "python3"
  },
  "language_info": {
   "codemirror_mode": {
    "name": "ipython",
    "version": 3
   },
   "file_extension": ".py",
   "mimetype": "text/x-python",
   "name": "python",
   "nbconvert_exporter": "python",
   "pygments_lexer": "ipython3",
   "version": "3.8.19"
  },
  "papermill": {
   "default_parameters": {},
   "duration": 159.349778,
   "end_time": "2024-08-04T03:40:44.363345",
   "environment_variables": {},
   "exception": null,
   "input_path": "__notebook__.ipynb",
   "output_path": "__notebook__.ipynb",
   "parameters": {},
   "start_time": "2024-08-04T03:38:05.013567",
   "version": "2.5.0"
  }
 },
 "nbformat": 4,
 "nbformat_minor": 5
}
